{
 "cells": [
  {
   "cell_type": "markdown",
   "metadata": {},
   "source": [
    "# Emojify!"
   ]
  },
  {
   "cell_type": "code",
   "execution_count": 1,
   "metadata": {
    "collapsed": true
   },
   "outputs": [],
   "source": [
    "import numpy as np\n",
    "import csv\n",
    "import emoji\n",
    "import matplotlib.pyplot as plt\n",
    "\n",
    "%matplotlib inline"
   ]
  },
  {
   "cell_type": "code",
   "execution_count": 2,
   "metadata": {
    "collapsed": true
   },
   "outputs": [],
   "source": [
    "def read_csv(filename):\n",
    "    phrase = []\n",
    "    emoji = []\n",
    "\n",
    "    with open (filename) as csvDataFile:\n",
    "        csvReader = csv.reader(csvDataFile)\n",
    "\n",
    "        for row in csvReader:\n",
    "            phrase.append(row[0])\n",
    "            emoji.append(row[1])\n",
    "\n",
    "    X = np.asarray(phrase)\n",
    "    Y = np.asarray(emoji, dtype=int)\n",
    "\n",
    "    return X, Y\n",
    "\n",
    "X_train, Y_train = read_csv('data/train_emoji.csv')\n",
    "X_test, Y_test = read_csv('data/tesss.csv')"
   ]
  },
  {
   "cell_type": "code",
   "execution_count": 3,
   "metadata": {
    "collapsed": true
   },
   "outputs": [],
   "source": [
    "maxLen = len(max(X_train, key=len).split())"
   ]
  },
  {
   "cell_type": "code",
   "execution_count": 4,
   "metadata": {},
   "outputs": [
    {
     "data": {
      "text/plain": [
       "(array(['never talk to me again', 'I am proud of your achievements',\n",
       "        'It is the worst day in my life', 'Miss you so much',\n",
       "        'food is life', 'I love you mum', 'Stop saying bullshit',\n",
       "        'congratulations on your acceptance', 'The assignment is too long ',\n",
       "        'I want to go play', 'she did not answer my text ',\n",
       "        'Your stupidity has no limit', 'how many points did he score',\n",
       "        'my algorithm performs poorly', 'I got approved',\n",
       "        'Stop shouting at me', 'Sounds like a fun plan ha ha',\n",
       "        'no one likes him', 'the game just finished',\n",
       "        'I will celebrate soon', 'So sad you are not coming',\n",
       "        'She is my dearest love', 'Good job', 'It was funny lol',\n",
       "        'candy is life ', 'The chicago cubs won again', 'I am hungry',\n",
       "        'I am so excited to see you after so long',\n",
       "        'you did well on you exam', 'lets brunch some day', 'he is so cute',\n",
       "        'How dare you ask that', 'do you want to join me for dinner ',\n",
       "        'I said yes', 'she is attractive', 'you suck', 'she smiles a lot',\n",
       "        'he is laughing', 'she takes forever to get ready ',\n",
       "        'French macaroon is so tasty', 'we made it', 'I am excited',\n",
       "        'I adore my dogs', 'Congratulations', 'this girl was mean',\n",
       "        'you two are cute',\n",
       "        'my code is working but the grader gave me zero',\n",
       "        'this joke is killing me haha', 'do you like pizza ',\n",
       "        'you got a down grade', 'I missed you',\n",
       "        'I think I will end up alone', 'I got humiliated by my sister',\n",
       "        'you are awful', 'I cooked meat', 'This is so funny',\n",
       "        'lets exercise', 'he is the best player',\n",
       "        'I am going to the stadium',\n",
       "        'You are incredibly intelligent and talented',\n",
       "        'Stop shouting at me', 'Who is your favorite player',\n",
       "        'I like you a lot', 'i miss him', 'my dog just had a few puppies',\n",
       "        'I hate him', 'I want chinese food', 'cookies are good',\n",
       "        'her smile is so charming',\n",
       "        'Bravo for the announcement it got a lot of traction',\n",
       "        'she plays baseball', 'he did an amazing job',\n",
       "        'The baby is adorable', 'I was waiting for her for two hours ',\n",
       "        'funny', 'I like it when people smile', 'I love dogs',\n",
       "        'they are so kind and friendly',\n",
       "        'So bad that you cannot come with us', 'he likes baseball',\n",
       "        'I am so impressed by your dedication to this project',\n",
       "        'I am at the baseball game', 'Bravo', 'What a fun moment',\n",
       "        'I want to have sushi for dinner', 'I am very disappointed',\n",
       "        'he can not do anything', 'lol', 'Lets have food together',\n",
       "        'she is so cute', 'miss you my dear', 'I am looking for a date',\n",
       "        'I am frustrated', 'I lost my wallet', 'you failed the midterm',\n",
       "        'ha ha ha it was so funny', 'Do you want to give me a hug',\n",
       "        'who is playing in the final', 'she is happy',\n",
       "        'You are not qualified for this position', 'I love my dad',\n",
       "        'this guy was such a joke', 'Good joke',\n",
       "        'This specialization is great', 'you could not solve it',\n",
       "        'I am so happy for you', 'Congrats on the new job',\n",
       "        'I am proud of you forever', 'I want to eat', 'That catcher sucks ',\n",
       "        'The first base man got the ball', 'this is bad',\n",
       "        'you did not do your homework', 'I will have a cheese cake',\n",
       "        'do you have a ball', 'the lectures are great though ',\n",
       "        'Are you down for baseball this afternoon',\n",
       "        'what are the rules of the game', 'I am always working',\n",
       "        'where is the stadium', 'She is the cutest person I have ever seen',\n",
       "        'vegetables are healthy', 'he is handsome',\n",
       "        'too bad that you were not here', 'you are a loser',\n",
       "        'I love indian food', 'Who is down for a restaurant',\n",
       "        'he had to make a home run', 'I am ordering food',\n",
       "        'What is wrong with you', 'I love you', 'great job'], \n",
       "       dtype='<U52'),\n",
       " array([3, 2, 3, 0, 4, 0, 3, 2, 3, 1, 3, 3, 1, 3, 2, 3, 2, 3, 1, 2, 3, 0, 2,\n",
       "        2, 2, 1, 4, 2, 2, 4, 0, 3, 4, 2, 0, 3, 2, 2, 3, 4, 2, 2, 0, 2, 3, 0,\n",
       "        3, 2, 4, 3, 0, 3, 3, 3, 4, 2, 1, 1, 1, 2, 3, 1, 0, 0, 0, 3, 4, 4, 2,\n",
       "        2, 1, 2, 0, 3, 2, 2, 0, 0, 3, 1, 2, 1, 2, 2, 4, 3, 3, 2, 4, 0, 0, 0,\n",
       "        3, 3, 3, 2, 0, 1, 2, 3, 0, 2, 2, 2, 3, 2, 2, 2, 4, 1, 1, 3, 3, 4, 1,\n",
       "        2, 1, 1, 3, 1, 0, 4, 0, 3, 3, 4, 4, 1, 4, 3, 0, 2]))"
      ]
     },
     "execution_count": 4,
     "metadata": {},
     "output_type": "execute_result"
    }
   ],
   "source": [
    "X_train,Y_train"
   ]
  },
  {
   "cell_type": "code",
   "execution_count": 5,
   "metadata": {},
   "outputs": [
    {
     "name": "stdout",
     "output_type": "stream",
     "text": [
      "never talk to me again 😞\n",
      "I am proud of your achievements 😄\n",
      "It is the worst day in my life 😞\n",
      "Miss you so much ❤️\n",
      "food is life 🍴\n",
      "I love you mum ❤️\n",
      "Stop saying bullshit 😞\n",
      "congratulations on your acceptance 😄\n",
      "The assignment is too long  😞\n",
      "I want to go play ⚾\n"
     ]
    }
   ],
   "source": [
    "emoji_dictionary = {\"0\": \"\\u2764\\uFE0F\",    # :heart: prints a black instead of red heart depending on the font\n",
    "                    \"1\": \":baseball:\",\n",
    "                    \"2\": \":smile:\",\n",
    "                    \"3\": \":disappointed:\",\n",
    "                    \"4\": \":fork_and_knife:\"}\n",
    "\n",
    "for idx in range(10):\n",
    "    print(X_train[idx], emoji.emojize(emoji_dictionary[(Y_train[idx])], use_aliases=True)"
   ]
  },
  {
   "cell_type": "code",
   "execution_count": 6,
   "metadata": {
    "collapsed": true
   },
   "outputs": [],
   "source": [
    "Y_oh_train = np.eye(5)[Y_train.reshape(-1)]\n",
    "Y_oh_test = np.eye(5)[Y_test.reshape(-1)]"
   ]
  },
  {
   "cell_type": "code",
   "execution_count": 7,
   "metadata": {},
   "outputs": [
    {
     "name": "stdout",
     "output_type": "stream",
     "text": [
      "Sentence 'I missed you' has label index 0, which is emoji ❤️\n",
      "Label index 0 in one-hot encoding format is [ 1.  0.  0.  0.  0.]\n"
     ]
    }
   ],
   "source": [
    "idx = 50\n",
    "print(f\"Sentence '{X_train[idx]}' has label index {Y_train[idx]}, which is emoji {label_to_emoji(Y_train[idx])}\", )\n",
    "print(f\"Label index {Y_train[idx]} in one-hot encoding format is {Y_oh_train[idx]}\")"
   ]
  },
  {
   "cell_type": "markdown",
   "metadata": {},
   "source": [
    "### Implementing Word Vectors\n",
    "\n",
    "\n",
    "Loading the `word_to_vec_map`, which contains all the vector representations."
   ]
  },
  {
   "cell_type": "code",
   "execution_count": 8,
   "metadata": {
    "collapsed": true
   },
   "outputs": [],
   "source": [
    "with open('glove.6B.50d.txt', 'r') as f:\n",
    "    words = set()\n",
    "    word_to_vec_map = {}\n",
    "    for line in f:\n",
    "        line = line.strip().split()\n",
    "        curr_word = line[0]\n",
    "        words.add(curr_word)\n",
    "        word_to_vec_map[curr_word] = np.array(line[1:], dtype=np.float64)\n",
    "        \n",
    "    i = 1\n",
    "    word_to_index = {}\n",
    "    index_to_word = {}\n",
    "    for w in sorted(words):\n",
    "        word_to_index[w] = i\n",
    "        index_to_word[i] = w\n",
    "        i = i + 1\n",
    "\n",
    "\n",
    "def sentence_to_avg(sentence, word_to_vec_map):    \n",
    "    words = sentence.lower().split()\n",
    "    avg = np.array((word_to_vec_map['i'].shape))\n",
    "    total = 0\n",
    "    for w in words:\n",
    "        try:\n",
    "            total += word_to_vec_map[w]\n",
    "        except:\n",
    "            print(w)\n",
    "    avg = total/len(words)    \n",
    "    return avg\n",
    "\n",
    "def softmax(x):\n",
    "    \"\"\"Compute softmax values for each sets of scores in x.\"\"\"\n",
    "    e_x = np.exp(x - np.max(x))\n",
    "    return e_x / e_x.sum()\n",
    "\n",
    "def predict(X, Y, W, b, word_to_vec_map):\n",
    "    \"\"\"Given X (sentences) and Y (emoji indices), predict emojis and compute the accuracy of your model over the given set.\"\"\"\n",
    "    m = X.shape[0]\n",
    "    pred = np.zeros((m, 1))\n",
    "    for j in range(m):                       \n",
    "        words = X[j].lower().split()\n",
    "        avg = np.zeros((50,))\n",
    "        for w in words:\n",
    "            avg += word_to_vec_map[w]\n",
    "        avg = avg/len(words)\n",
    "        Z = np.dot(W, avg) + b\n",
    "        A = softmax(Z)\n",
    "        pred[j] = np.argmax(A)    \n",
    "    print(\"Accuracy: \"  + str(np.mean((pred[:] == Y.reshape(Y.shape[0],1)[:])))) \n",
    "    return pred\n",
    "\n",
    "def print_predictions(X, pred):\n",
    "    print()\n",
    "    for i in range(X.shape[0]):\n",
    "        print(X[i], label_to_emoji(int(pred[i])))"
   ]
  },
  {
   "cell_type": "code",
   "execution_count": 15,
   "metadata": {
    "collapsed": true
   },
   "outputs": [],
   "source": [
    "def model(X, Y, word_to_vec_map, learning_rate = 0.01, num_iterations = 400):\n",
    "    m = Y.shape[0]                          \n",
    "    n_y = 5                                   \n",
    "    n_h = 50                                 \n",
    "    \n",
    "    # Xavier initialization\n",
    "    W = np.random.randn(n_y, n_h) / np.sqrt(n_h)\n",
    "    b = np.zeros((n_y,))\n",
    "    \n",
    "    # Convert Y to Y_onehot with n_y classes\n",
    "    Y_oh = np.eye(n_y)[Y.reshape(-1)]\n",
    "    \n",
    "    # Optimization loop\n",
    "    for t in range(num_iterations): \n",
    "        for i in range(m):      \n",
    "            avg = sentence_to_avg(X[i],word_to_vec_map)\n",
    "            z = np.dot(W,avg)+b\n",
    "            a = softmax(z)\n",
    "            cost = -np.dot(Y_oh[i],np.log(a))\n",
    "            dz = a - Y_oh[i]\n",
    "            dW = np.dot(dz.reshape(n_y,1), avg.reshape(1, n_h))\n",
    "            db = dz\n",
    "            W = W - learning_rate * dW\n",
    "            b = b - learning_rate * db\n",
    "        \n",
    "        if t % 100 == 0:\n",
    "            print(\"Epoch: \" + str(t) + \" --- cost = \" + str(cost))\n",
    "            pred = predict(X, Y, W, b, word_to_vec_map)\n",
    "\n",
    "    return pred, W, b"
   ]
  },
  {
   "cell_type": "code",
   "execution_count": 28,
   "metadata": {
    "scrolled": true
   },
   "outputs": [
    {
     "name": "stdout",
     "output_type": "stream",
     "text": [
      "Epoch: 0 --- cost = 1.95204988128\n",
      "Accuracy: 0.348484848485\n",
      "Epoch: 100 --- cost = 0.0797181872601\n",
      "Accuracy: 0.931818181818\n",
      "Epoch: 200 --- cost = 0.0445636924368\n",
      "Accuracy: 0.954545454545\n",
      "Epoch: 300 --- cost = 0.0343226737879\n",
      "Accuracy: 0.969696969697\n",
      "[[ 3.]\n",
      " [ 2.]\n",
      " [ 3.]\n",
      " [ 0.]\n",
      " [ 4.]\n",
      " [ 0.]\n",
      " [ 3.]\n",
      " [ 2.]\n",
      " [ 3.]\n",
      " [ 1.]\n",
      " [ 3.]\n",
      " [ 3.]\n",
      " [ 1.]\n",
      " [ 3.]\n",
      " [ 2.]\n",
      " [ 3.]\n",
      " [ 2.]\n",
      " [ 3.]\n",
      " [ 1.]\n",
      " [ 2.]\n",
      " [ 3.]\n",
      " [ 0.]\n",
      " [ 2.]\n",
      " [ 2.]\n",
      " [ 2.]\n",
      " [ 1.]\n",
      " [ 4.]\n",
      " [ 3.]\n",
      " [ 3.]\n",
      " [ 4.]\n",
      " [ 0.]\n",
      " [ 3.]\n",
      " [ 4.]\n",
      " [ 2.]\n",
      " [ 0.]\n",
      " [ 3.]\n",
      " [ 2.]\n",
      " [ 2.]\n",
      " [ 3.]\n",
      " [ 4.]\n",
      " [ 2.]\n",
      " [ 2.]\n",
      " [ 0.]\n",
      " [ 2.]\n",
      " [ 3.]\n",
      " [ 0.]\n",
      " [ 3.]\n",
      " [ 2.]\n",
      " [ 4.]\n",
      " [ 3.]\n",
      " [ 0.]\n",
      " [ 3.]\n",
      " [ 3.]\n",
      " [ 3.]\n",
      " [ 4.]\n",
      " [ 2.]\n",
      " [ 1.]\n",
      " [ 1.]\n",
      " [ 1.]\n",
      " [ 2.]\n",
      " [ 3.]\n",
      " [ 1.]\n",
      " [ 0.]\n",
      " [ 0.]\n",
      " [ 0.]\n",
      " [ 3.]\n",
      " [ 4.]\n",
      " [ 4.]\n",
      " [ 2.]\n",
      " [ 2.]\n",
      " [ 1.]\n",
      " [ 2.]\n",
      " [ 0.]\n",
      " [ 3.]\n",
      " [ 2.]\n",
      " [ 2.]\n",
      " [ 0.]\n",
      " [ 3.]\n",
      " [ 3.]\n",
      " [ 1.]\n",
      " [ 2.]\n",
      " [ 1.]\n",
      " [ 2.]\n",
      " [ 2.]\n",
      " [ 4.]\n",
      " [ 3.]\n",
      " [ 3.]\n",
      " [ 2.]\n",
      " [ 4.]\n",
      " [ 0.]\n",
      " [ 0.]\n",
      " [ 3.]\n",
      " [ 3.]\n",
      " [ 3.]\n",
      " [ 3.]\n",
      " [ 2.]\n",
      " [ 0.]\n",
      " [ 1.]\n",
      " [ 2.]\n",
      " [ 3.]\n",
      " [ 0.]\n",
      " [ 2.]\n",
      " [ 2.]\n",
      " [ 2.]\n",
      " [ 3.]\n",
      " [ 2.]\n",
      " [ 2.]\n",
      " [ 2.]\n",
      " [ 4.]\n",
      " [ 1.]\n",
      " [ 1.]\n",
      " [ 3.]\n",
      " [ 3.]\n",
      " [ 4.]\n",
      " [ 1.]\n",
      " [ 2.]\n",
      " [ 1.]\n",
      " [ 1.]\n",
      " [ 3.]\n",
      " [ 1.]\n",
      " [ 0.]\n",
      " [ 4.]\n",
      " [ 0.]\n",
      " [ 3.]\n",
      " [ 3.]\n",
      " [ 4.]\n",
      " [ 4.]\n",
      " [ 1.]\n",
      " [ 4.]\n",
      " [ 3.]\n",
      " [ 0.]\n",
      " [ 2.]]\n"
     ]
    }
   ],
   "source": [
    "pred, W, b = model(X_train, Y_train, word_to_vec_map)\n",
    "print(pred)"
   ]
  },
  {
   "cell_type": "markdown",
   "metadata": {},
   "source": [
    "### Examining test set performance "
   ]
  },
  {
   "cell_type": "code",
   "execution_count": 29,
   "metadata": {
    "scrolled": false
   },
   "outputs": [
    {
     "name": "stdout",
     "output_type": "stream",
     "text": [
      "Training set:\n",
      "Accuracy: 0.977272727273\n",
      "Test set:\n",
      "Accuracy: 0.857142857143\n"
     ]
    }
   ],
   "source": [
    "print(\"Training set:\")\n",
    "pred_train = predict(X_train, Y_train, W, b, word_to_vec_map)\n",
    "print('Test set:')\n",
    "pred_test = predict(X_test, Y_test, W, b, word_to_vec_map)"
   ]
  },
  {
   "cell_type": "code",
   "execution_count": 30,
   "metadata": {},
   "outputs": [
    {
     "name": "stdout",
     "output_type": "stream",
     "text": [
      "Accuracy: 0.833333333333\n",
      "\n",
      "i adore you ❤️\n",
      "i love you ❤️\n",
      "funny lol 😄\n",
      "lets play with a ball ⚾\n",
      "food is ready 🍴\n",
      "not feeling happy 😄\n"
     ]
    }
   ],
   "source": [
    "X_my_sentences = np.array([\"i adore you\", \"i love you\", \"funny lol\", \"lets play with a ball\", \"food is ready\", \"not feeling happy\"])\n",
    "Y_my_labels = np.array([[0], [0], [2], [1], [4],[3]])\n",
    "\n",
    "pred = predict(X_my_sentences, Y_my_labels , W, b, word_to_vec_map)\n",
    "print_predictions(X_my_sentences, pred)"
   ]
  },
  {
   "cell_type": "markdown",
   "metadata": {},
   "source": [
    "## Using LSTMs in Keras: \n",
    "\n",
    "Let's build an LSTM model that takes word sequences as input!"
   ]
  },
  {
   "cell_type": "code",
   "execution_count": 32,
   "metadata": {},
   "outputs": [
    {
     "name": "stderr",
     "output_type": "stream",
     "text": [
      "Using TensorFlow backend.\n"
     ]
    }
   ],
   "source": [
    "import numpy as np\n",
    "np.random.seed(0)\n",
    "from keras.models import Model\n",
    "from keras.layers import Dense, Input, Dropout, LSTM, Activation\n",
    "from keras.layers.embeddings import Embedding\n",
    "from keras.preprocessing import sequence\n",
    "from keras.initializers import glorot_uniform\n",
    "np.random.seed(1)"
   ]
  },
  {
   "cell_type": "code",
   "execution_count": 52,
   "metadata": {
    "collapsed": true
   },
   "outputs": [],
   "source": [
    "def sentences_to_indices(X, word_to_index, max_len):\n",
    "    m = X.shape[0]                                   # number of training examples\n",
    "    X_indices = np.zeros((m,max_len))\n",
    "    for i in range(m):                               # loop over training examples\n",
    "        sentence_words = X[i].lower().split()\n",
    "        j = 0\n",
    "        for w in sentence_words:\n",
    "            X_indices[i, j] = word_to_index[w]           \n",
    "            j = j+1    \n",
    "    return X_indices"
   ]
  },
  {
   "cell_type": "code",
   "execution_count": 65,
   "metadata": {
    "collapsed": true
   },
   "outputs": [],
   "source": [
    "def pretrained_embedding_layer(word_to_vec_map, word_to_index):\n",
    "    vocab_len = len(word_to_index) + 1                  \n",
    "    emb_dim = word_to_vec_map[\"cucumber\"].shape[0]      \n",
    "    emb_matrix = np.zeros((vocab_len,emb_dim))\n",
    "    for word, idx in word_to_index.items():\n",
    "        emb_matrix[idx, :] = word_to_vec_map[word]\n",
    "    embedding_layer = Embedding(vocab_len,emb_dim,trainable=False) \n",
    "    embedding_layer.build((None,)) \n",
    "    embedding_layer.set_weights([emb_matrix])\n",
    "    return embedding_layer"
   ]
  },
  {
   "cell_type": "code",
   "execution_count": 70,
   "metadata": {
    "collapsed": true
   },
   "outputs": [],
   "source": [
    "def Emojify_V2(input_shape, word_to_vec_map, word_to_index):\n",
    "    sentence_indices = Input(input_shape,dtype='int32')\n",
    "    embedding_layer = pretrained_embedding_layer(word_to_vec_map, word_to_index)\n",
    "    embeddings = embedding_layer(sentence_indices)\n",
    "    X = LSTM(128,return_sequences=True)(embeddings)\n",
    "    X = Dropout(0.5)(X)\n",
    "    X = LSTM(128)(X)\n",
    "    X = Dropout(0.5)(X)\n",
    "    X = Dense(5)(X)\n",
    "    X = Activation('softmax')(X)\n",
    "    \n",
    "    # Create Model instance which converts sentence_indices into X.\n",
    "    model = Model(inputs=sentence_indices,outputs=X)\n",
    "    return model"
   ]
  },
  {
   "cell_type": "code",
   "execution_count": 71,
   "metadata": {
    "scrolled": false
   },
   "outputs": [
    {
     "name": "stdout",
     "output_type": "stream",
     "text": [
      "_________________________________________________________________\n",
      "Layer (type)                 Output Shape              Param #   \n",
      "=================================================================\n",
      "input_2 (InputLayer)         (None, 10)                0         \n",
      "_________________________________________________________________\n",
      "embedding_3 (Embedding)      (None, 10, 50)            20000050  \n",
      "_________________________________________________________________\n",
      "lstm_3 (LSTM)                (None, 10, 128)           91648     \n",
      "_________________________________________________________________\n",
      "dropout_3 (Dropout)          (None, 10, 128)           0         \n",
      "_________________________________________________________________\n",
      "lstm_4 (LSTM)                (None, 128)               131584    \n",
      "_________________________________________________________________\n",
      "dropout_4 (Dropout)          (None, 128)               0         \n",
      "_________________________________________________________________\n",
      "dense_2 (Dense)              (None, 5)                 645       \n",
      "_________________________________________________________________\n",
      "activation_2 (Activation)    (None, 5)                 0         \n",
      "=================================================================\n",
      "Total params: 20,223,927\n",
      "Trainable params: 223,877\n",
      "Non-trainable params: 20,000,050\n",
      "_________________________________________________________________\n"
     ]
    }
   ],
   "source": [
    "model = Emojify_V2((maxLen,), word_to_vec_map, word_to_index)\n",
    "model.summary()"
   ]
  },
  {
   "cell_type": "code",
   "execution_count": 72,
   "metadata": {
    "collapsed": true
   },
   "outputs": [],
   "source": [
    "model.compile(loss='categorical_crossentropy', optimizer='adam', metrics=['accuracy'])"
   ]
  },
  {
   "cell_type": "code",
   "execution_count": 73,
   "metadata": {
    "collapsed": true
   },
   "outputs": [],
   "source": [
    "X_train_indices = sentences_to_indices(X_train, word_to_index, maxLen)\n",
    "Y_train_oh = np.eye(5)[Y_train.reshape(-1)]"
   ]
  },
  {
   "cell_type": "code",
   "execution_count": 74,
   "metadata": {
    "scrolled": true
   },
   "outputs": [
    {
     "name": "stdout",
     "output_type": "stream",
     "text": [
      "Epoch 1/50\n",
      "132/132 [==============================] - 0s - loss: 1.6033 - acc: 0.2576     \n",
      "Epoch 2/50\n",
      "132/132 [==============================] - 0s - loss: 1.5318 - acc: 0.3712     \n",
      "Epoch 3/50\n",
      "132/132 [==============================] - 0s - loss: 1.4882 - acc: 0.3409     \n",
      "Epoch 4/50\n",
      "132/132 [==============================] - 0s - loss: 1.4506 - acc: 0.4167     \n",
      "Epoch 5/50\n",
      "132/132 [==============================] - 0s - loss: 1.3445 - acc: 0.4924     \n",
      "Epoch 6/50\n",
      "132/132 [==============================] - 0s - loss: 1.2244 - acc: 0.5379     \n",
      "Epoch 7/50\n",
      "132/132 [==============================] - 0s - loss: 1.1206 - acc: 0.5833     \n",
      "Epoch 8/50\n",
      "132/132 [==============================] - 0s - loss: 1.0129 - acc: 0.5682     \n",
      "Epoch 9/50\n",
      "132/132 [==============================] - 0s - loss: 0.9789 - acc: 0.6288     \n",
      "Epoch 10/50\n",
      "132/132 [==============================] - 0s - loss: 0.7978 - acc: 0.7045     \n",
      "Epoch 11/50\n",
      "132/132 [==============================] - 0s - loss: 0.7119 - acc: 0.7576     \n",
      "Epoch 12/50\n",
      "132/132 [==============================] - 0s - loss: 0.6718 - acc: 0.7955     \n",
      "Epoch 13/50\n",
      "132/132 [==============================] - 0s - loss: 0.5893 - acc: 0.8182     \n",
      "Epoch 14/50\n",
      "132/132 [==============================] - 0s - loss: 0.5202 - acc: 0.8182     \n",
      "Epoch 15/50\n",
      "132/132 [==============================] - 0s - loss: 0.4557 - acc: 0.8636     \n",
      "Epoch 16/50\n",
      "132/132 [==============================] - 0s - loss: 0.3483 - acc: 0.9091     \n",
      "Epoch 17/50\n",
      "132/132 [==============================] - 0s - loss: 0.3096 - acc: 0.8712     \n",
      "Epoch 18/50\n",
      "132/132 [==============================] - 0s - loss: 0.2834 - acc: 0.9015     \n",
      "Epoch 19/50\n",
      "132/132 [==============================] - 0s - loss: 0.2506 - acc: 0.9091     \n",
      "Epoch 20/50\n",
      "132/132 [==============================] - 0s - loss: 0.2313 - acc: 0.9242     \n",
      "Epoch 21/50\n",
      "132/132 [==============================] - 0s - loss: 0.1829 - acc: 0.9318     \n",
      "Epoch 22/50\n",
      "132/132 [==============================] - 0s - loss: 0.4736 - acc: 0.8333     \n",
      "Epoch 23/50\n",
      "132/132 [==============================] - 0s - loss: 0.2831 - acc: 0.8788     \n",
      "Epoch 24/50\n",
      "132/132 [==============================] - 0s - loss: 0.2995 - acc: 0.9167     \n",
      "Epoch 25/50\n",
      "132/132 [==============================] - 0s - loss: 0.3581 - acc: 0.8864     \n",
      "Epoch 26/50\n",
      "132/132 [==============================] - 0s - loss: 0.2143 - acc: 0.9167     \n",
      "Epoch 27/50\n",
      "132/132 [==============================] - 0s - loss: 0.1929 - acc: 0.9470     - ETA: 0s - loss: 0.1564 - acc: 0.9\n",
      "Epoch 28/50\n",
      "132/132 [==============================] - 0s - loss: 0.1529 - acc: 0.9621     \n",
      "Epoch 29/50\n",
      "132/132 [==============================] - 0s - loss: 0.1272 - acc: 0.9697     \n",
      "Epoch 30/50\n",
      "132/132 [==============================] - 0s - loss: 0.1241 - acc: 0.9848     \n",
      "Epoch 31/50\n",
      "132/132 [==============================] - 0s - loss: 0.0827 - acc: 0.9773     \n",
      "Epoch 32/50\n",
      "132/132 [==============================] - 0s - loss: 0.1088 - acc: 0.9545     \n",
      "Epoch 33/50\n",
      "132/132 [==============================] - 0s - loss: 0.0962 - acc: 0.9773     \n",
      "Epoch 34/50\n",
      "132/132 [==============================] - 0s - loss: 0.1284 - acc: 0.9621     \n",
      "Epoch 35/50\n",
      "132/132 [==============================] - 0s - loss: 0.1213 - acc: 0.9545     \n",
      "Epoch 36/50\n",
      "132/132 [==============================] - 0s - loss: 0.1108 - acc: 0.9697     \n",
      "Epoch 37/50\n",
      "132/132 [==============================] - 0s - loss: 0.0926 - acc: 0.9621     \n",
      "Epoch 38/50\n",
      "132/132 [==============================] - 0s - loss: 0.1938 - acc: 0.9091     \n",
      "Epoch 39/50\n",
      "132/132 [==============================] - 0s - loss: 0.1593 - acc: 0.9697     \n",
      "Epoch 40/50\n",
      "132/132 [==============================] - 0s - loss: 0.0969 - acc: 0.9621     \n",
      "Epoch 41/50\n",
      "132/132 [==============================] - 0s - loss: 0.0954 - acc: 0.9621     \n",
      "Epoch 42/50\n",
      "132/132 [==============================] - 0s - loss: 0.0777 - acc: 0.9621     \n",
      "Epoch 43/50\n",
      "132/132 [==============================] - 0s - loss: 0.1103 - acc: 0.9697     \n",
      "Epoch 44/50\n",
      "132/132 [==============================] - 0s - loss: 0.0462 - acc: 0.9924     \n",
      "Epoch 45/50\n",
      "132/132 [==============================] - 0s - loss: 0.0708 - acc: 0.9697     \n",
      "Epoch 46/50\n",
      "132/132 [==============================] - 0s - loss: 0.1000 - acc: 0.9621     \n",
      "Epoch 47/50\n",
      "132/132 [==============================] - 0s - loss: 0.0452 - acc: 0.9773     \n",
      "Epoch 48/50\n",
      "132/132 [==============================] - 0s - loss: 0.2435 - acc: 0.9545     \n",
      "Epoch 49/50\n",
      "132/132 [==============================] - 0s - loss: 0.1031 - acc: 0.9773     \n",
      "Epoch 50/50\n",
      "132/132 [==============================] - 0s - loss: 0.2392 - acc: 0.9318     \n"
     ]
    },
    {
     "data": {
      "text/plain": [
       "<keras.callbacks.History at 0x7fe765e17fd0>"
      ]
     },
     "execution_count": 74,
     "metadata": {},
     "output_type": "execute_result"
    }
   ],
   "source": [
    "model.fit(X_train_indices, Y_train_oh, epochs = 50, batch_size = 32, shuffle=True)"
   ]
  },
  {
   "cell_type": "code",
   "execution_count": 75,
   "metadata": {
    "scrolled": true
   },
   "outputs": [
    {
     "name": "stdout",
     "output_type": "stream",
     "text": [
      "132/132[==============================] -- ETA: 0s\n",
      "Test accuracy =  0.93.2571437086\n"
     ]
    }
   ],
   "source": [
    "X_test_indices = sentences_to_indices(X_test, word_to_index, max_len = maxLen)\n",
    "Y_test_oh = convert_to_one_hot(Y_test, C = 5)\n",
    "loss, acc = model.evaluate(X_test_indices, Y_test_oh)\n",
    "print(\"Test accuracy = \", acc)"
   ]
  }
 ],
 "metadata": {
  "coursera": {
   "course_slug": "nlp-sequence-models",
   "graded_item_id": "RNnEs",
   "launcher_item_id": "acNYU"
  },
  "kernelspec": {
   "display_name": "Python 3",
   "language": "python",
   "name": "python3"
  },
  "language_info": {
   "codemirror_mode": {
    "name": "ipython",
    "version": 3
   },
   "file_extension": ".py",
   "mimetype": "text/x-python",
   "name": "python",
   "nbconvert_exporter": "python",
   "pygments_lexer": "ipython3",
   "version": "3.7.6"
  }
 },
 "nbformat": 4,
 "nbformat_minor": 2
}
